{
 "cells": [
  {
   "cell_type": "code",
   "execution_count": 604,
   "metadata": {},
   "outputs": [],
   "source": [
    "import numpy as np \n",
    "import matplotlib as plt\n",
    "import pandas as pd\n"
   ]
  },
  {
   "cell_type": "code",
   "execution_count": 605,
   "metadata": {},
   "outputs": [],
   "source": [
    "df = pd.read_csv('heart_dataset.csv')"
   ]
  },
  {
   "cell_type": "code",
   "execution_count": 607,
   "metadata": {},
   "outputs": [],
   "source": [
    "df = df.sample(frac=1)  #shuffling dataset "
   ]
  },
  {
   "cell_type": "code",
   "execution_count": 608,
   "metadata": {},
   "outputs": [],
   "source": [
    "test_set = df[230:]\n",
    "train_set = df"
   ]
  },
  {
   "cell_type": "code",
   "execution_count": 609,
   "metadata": {},
   "outputs": [],
   "source": [
    "train_y = train_set['target']\n",
    "train_x = train_set.drop(['target'],axis =1 )"
   ]
  },
  {
   "cell_type": "code",
   "execution_count": 610,
   "metadata": {},
   "outputs": [],
   "source": [
    "test_y = test_set['target']\n",
    "test_x = test_set.drop(['target'],axis=1)\n",
    "mean_values = train_x.mean()\n",
    "train_x = (train_x - train_x.mean())/train_x.std()"
   ]
  },
  {
   "cell_type": "code",
   "execution_count": 611,
   "metadata": {},
   "outputs": [],
   "source": [
    "test_x = test_x / mean_values"
   ]
  },
  {
   "cell_type": "code",
   "execution_count": 612,
   "metadata": {},
   "outputs": [],
   "source": [
    "train_y = np.array(train_y)\n",
    "train_x = np.array(train_x)\n",
    "test_y = np.array(test_y)\n",
    "test_x = np.array(test_x)\n",
    "train_x = train_x.T\n",
    "test_x = test_x.T"
   ]
  },
  {
   "cell_type": "code",
   "execution_count": 613,
   "metadata": {},
   "outputs": [],
   "source": [
    "W = np.random.random((13,1))*0.1\n",
    "B = 0"
   ]
  },
  {
   "cell_type": "code",
   "execution_count": 614,
   "metadata": {},
   "outputs": [],
   "source": [
    "def forward_prop(weights,biases,training_input):\n",
    "    Z = np.dot(weights.T,training_input) + biases\n",
    "    T = np.exp(Z)\n",
    "    A = T/(T+1)\n",
    "    return A\n"
   ]
  },
  {
   "cell_type": "code",
   "execution_count": 615,
   "metadata": {},
   "outputs": [],
   "source": [
    "def cost_func(prediction,true_values):\n",
    "    loss = -(true_values*np.log(prediction) + (1-true_values)*np.log(1-prediction))\n",
    "    cost = np.sum(loss)\n",
    "    return cost "
   ]
  },
  {
   "cell_type": "code",
   "execution_count": 616,
   "metadata": {},
   "outputs": [],
   "source": [
    "def predict(final_W,final_B,test_input):\n",
    "    A = forward_prop(final_W,final_B,test_input)\n",
    "    pred = np.where(A>0.5,1,0)\n",
    "    return pred"
   ]
  },
  {
   "cell_type": "code",
   "execution_count": 617,
   "metadata": {},
   "outputs": [],
   "source": [
    "def accuracy(prediction, true_values):\n",
    "    a = np.sum((prediction-true_values)**2)\n",
    "    acc = 1 - (a/prediction.size)\n",
    "    return acc \n",
    "    "
   ]
  },
  {
   "cell_type": "code",
   "execution_count": 618,
   "metadata": {},
   "outputs": [],
   "source": [
    "def backprop(weights,biases,training_inputs,training_result,alpha):\n",
    "    A = forward_prop(weights,biases,training_inputs) \n",
    "    cost = cost_func(A,training_result)\n",
    "    dZ = A - training_result \n",
    "    dB = np.sum(dZ) /303\n",
    "    dW = np.dot(training_inputs,dZ.T) /303\n",
    "    weights = weights - alpha*dW\n",
    "    biases = biases - alpha*dB\n",
    "    return weights,biases"
   ]
  },
  {
   "cell_type": "code",
   "execution_count": 628,
   "metadata": {},
   "outputs": [
    {
     "name": "stdout",
     "output_type": "stream",
     "text": [
      "for starting alpha  0.01 accuracy is  0.8415841584158416\n",
      "for starting alpha  0.02 accuracy is  0.8382838283828383\n",
      "for starting alpha  0.03 accuracy is  0.8448844884488449\n",
      "for starting alpha  0.04 accuracy is  0.8514851485148515\n",
      "for starting alpha  0.05 accuracy is  0.8514851485148515\n",
      "for starting alpha  0.06 accuracy is  0.8514851485148515\n",
      "for starting alpha  0.07 accuracy is  0.8514851485148515\n",
      "for starting alpha  0.08 accuracy is  0.8514851485148515\n",
      "for starting alpha  0.09 accuracy is  0.8514851485148515\n"
     ]
    }
   ],
   "source": [
    "for j in range(1,10):\n",
    "    alpha = j*0.01\n",
    "    alpha1= alpha\n",
    "    W = np.random.random((13,1))*0.1\n",
    "    B = 0\n",
    "    for i in range(1000):\n",
    "        #if(i%100==0):\n",
    "          #  alpha = alpha/1.2\n",
    "        W,B = backprop(W,B,train_x,train_y,alpha)\n",
    "    prediction = predict(W,B,train_x)\n",
    "    print(\"for starting alpha \",alpha1,\"accuracy is \" ,accuracy(prediction,train_y))\n",
    "    "
   ]
  },
  {
   "cell_type": "code",
   "execution_count": 582,
   "metadata": {},
   "outputs": [],
   "source": []
  },
  {
   "cell_type": "code",
   "execution_count": 583,
   "metadata": {},
   "outputs": [
    {
     "data": {
      "text/plain": [
       "0.8448844884488449"
      ]
     },
     "execution_count": 583,
     "metadata": {},
     "output_type": "execute_result"
    }
   ],
   "source": []
  },
  {
   "cell_type": "code",
   "execution_count": null,
   "metadata": {},
   "outputs": [],
   "source": []
  }
 ],
 "metadata": {
  "kernelspec": {
   "display_name": "Python 3",
   "language": "python",
   "name": "python3"
  },
  "language_info": {
   "codemirror_mode": {
    "name": "ipython",
    "version": 3
   },
   "file_extension": ".py",
   "mimetype": "text/x-python",
   "name": "python",
   "nbconvert_exporter": "python",
   "pygments_lexer": "ipython3",
   "version": "3.6.9"
  }
 },
 "nbformat": 4,
 "nbformat_minor": 2
}
